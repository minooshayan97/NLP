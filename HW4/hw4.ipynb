{
 "cells": [
  {
   "cell_type": "code",
   "execution_count": 1,
   "metadata": {},
   "outputs": [],
   "source": [
    "import numpy as np\n",
    "import pandas as pd"
   ]
  },
  {
   "cell_type": "code",
   "execution_count": 2,
   "metadata": {},
   "outputs": [],
   "source": [
    "f = open('persica.csv', \"r\", encoding='utf-8')\n",
    "lines = f.readlines()\n",
    "\n",
    "title = []\n",
    "text=[]\n",
    "category2=[]\n",
    "\n",
    "for i,line in enumerate(lines):\n",
    "    if i%7 == 1:\n",
    "        title.append(line.strip())\n",
    "    elif i%7 == 2:\n",
    "        text.append(line.strip())\n",
    "    elif i%7 == 6:\n",
    "        category2.append(line.strip())\n",
    "\n",
    "df = pd.DataFrame()\n",
    "df['title'] = title\n",
    "df['text'] = text\n",
    "df['input_text'] = df['title'] + df['text']\n",
    "df['category'] = category2"
   ]
  },
  {
   "cell_type": "code",
   "execution_count": 3,
   "metadata": {},
   "outputs": [
    {
     "data": {
      "text/plain": [
       "array(['آموزشي', 'اجتماعي', 'تاريخي', 'اقتصادي', 'بهداشتي', 'علمي',\n",
       "       'سياسي', 'فرهنگي', 'فقه و حقوق', 'مذهبي', 'ورزشي'], dtype=object)"
      ]
     },
     "execution_count": 3,
     "metadata": {},
     "output_type": "execute_result"
    }
   ],
   "source": [
    "df['category'].unique()"
   ]
  },
  {
   "cell_type": "code",
   "execution_count": 4,
   "metadata": {},
   "outputs": [
    {
     "data": {
      "text/html": [
       "<div>\n",
       "<style scoped>\n",
       "    .dataframe tbody tr th:only-of-type {\n",
       "        vertical-align: middle;\n",
       "    }\n",
       "\n",
       "    .dataframe tbody tr th {\n",
       "        vertical-align: top;\n",
       "    }\n",
       "\n",
       "    .dataframe thead th {\n",
       "        text-align: right;\n",
       "    }\n",
       "</style>\n",
       "<table border=\"1\" class=\"dataframe\">\n",
       "  <thead>\n",
       "    <tr style=\"text-align: right;\">\n",
       "      <th></th>\n",
       "      <th>title</th>\n",
       "      <th>text</th>\n",
       "      <th>input_text</th>\n",
       "      <th>category</th>\n",
       "    </tr>\n",
       "  </thead>\n",
       "  <tbody>\n",
       "    <tr>\n",
       "      <th>0</th>\n",
       "      <td>وزير علوم درجمع استادان نمونه: سن بازنشستگي اس...</td>\n",
       "      <td>وزير علوم در جمع استادان نمونه كشور گفت: از اس...</td>\n",
       "      <td>وزير علوم درجمع استادان نمونه: سن بازنشستگي اس...</td>\n",
       "      <td>آموزشي</td>\n",
       "    </tr>\n",
       "    <tr>\n",
       "      <th>1</th>\n",
       "      <td>گردهمايي دانش‌آموختگان موسسه آموزش عالي سوره ب...</td>\n",
       "      <td>به گزارش سرويس صنفي آموزشي خبرگزاري دانشجويان ...</td>\n",
       "      <td>گردهمايي دانش‌آموختگان موسسه آموزش عالي سوره ب...</td>\n",
       "      <td>آموزشي</td>\n",
       "    </tr>\n",
       "    <tr>\n",
       "      <th>2</th>\n",
       "      <td>نتايج آزمون دوره‌هاي فراگير دانشگاه پيام‌نور ا...</td>\n",
       "      <td>نتايج آزمون دوره‌هاي فراگير مقاطع كارشناسي و ك...</td>\n",
       "      <td>نتايج آزمون دوره‌هاي فراگير دانشگاه پيام‌نور ا...</td>\n",
       "      <td>آموزشي</td>\n",
       "    </tr>\n",
       "    <tr>\n",
       "      <th>3</th>\n",
       "      <td>همايش يكروزه آسيب شناسي مفهوم روابط عمومي در ب...</td>\n",
       "      <td>,</td>\n",
       "      <td>همايش يكروزه آسيب شناسي مفهوم روابط عمومي در ب...</td>\n",
       "      <td>اجتماعي</td>\n",
       "    </tr>\n",
       "    <tr>\n",
       "      <th>4</th>\n",
       "      <td>وضعيت اقتصادي و ميزان تحصيلات والدين از مهمتري...</td>\n",
       "      <td>محمدتقي علوي يزدي، مجري اين طرح پژوهشي در اين‌...</td>\n",
       "      <td>وضعيت اقتصادي و ميزان تحصيلات والدين از مهمتري...</td>\n",
       "      <td>آموزشي</td>\n",
       "    </tr>\n",
       "  </tbody>\n",
       "</table>\n",
       "</div>"
      ],
      "text/plain": [
       "                                               title  \\\n",
       "0  وزير علوم درجمع استادان نمونه: سن بازنشستگي اس...   \n",
       "1  گردهمايي دانش‌آموختگان موسسه آموزش عالي سوره ب...   \n",
       "2  نتايج آزمون دوره‌هاي فراگير دانشگاه پيام‌نور ا...   \n",
       "3  همايش يكروزه آسيب شناسي مفهوم روابط عمومي در ب...   \n",
       "4  وضعيت اقتصادي و ميزان تحصيلات والدين از مهمتري...   \n",
       "\n",
       "                                                text  \\\n",
       "0  وزير علوم در جمع استادان نمونه كشور گفت: از اس...   \n",
       "1  به گزارش سرويس صنفي آموزشي خبرگزاري دانشجويان ...   \n",
       "2  نتايج آزمون دوره‌هاي فراگير مقاطع كارشناسي و ك...   \n",
       "3                                                  ,   \n",
       "4  محمدتقي علوي يزدي، مجري اين طرح پژوهشي در اين‌...   \n",
       "\n",
       "                                          input_text category  \n",
       "0  وزير علوم درجمع استادان نمونه: سن بازنشستگي اس...   آموزشي  \n",
       "1  گردهمايي دانش‌آموختگان موسسه آموزش عالي سوره ب...   آموزشي  \n",
       "2  نتايج آزمون دوره‌هاي فراگير دانشگاه پيام‌نور ا...   آموزشي  \n",
       "3  همايش يكروزه آسيب شناسي مفهوم روابط عمومي در ب...  اجتماعي  \n",
       "4  وضعيت اقتصادي و ميزان تحصيلات والدين از مهمتري...   آموزشي  "
      ]
     },
     "execution_count": 4,
     "metadata": {},
     "output_type": "execute_result"
    }
   ],
   "source": [
    "df.head()"
   ]
  },
  {
   "cell_type": "code",
   "execution_count": 5,
   "metadata": {},
   "outputs": [],
   "source": [
    "from sklearn.model_selection import train_test_split\n",
    "\n",
    "x_train, x_test, y_train, y_test = train_test_split(df['input_text'], df['category'], test_size=0.2, random_state=1)"
   ]
  },
  {
   "cell_type": "code",
   "execution_count": 6,
   "metadata": {},
   "outputs": [
    {
     "name": "stdout",
     "output_type": "stream",
     "text": [
      "(8799, 60631)\n",
      "(8799, 100)\n"
     ]
    }
   ],
   "source": [
    "from sklearn.pipeline import Pipeline\n",
    "from sklearn.feature_extraction.text import CountVectorizer\n",
    "from sklearn.feature_extraction.text import TfidfTransformer\n",
    "from sklearn.naive_bayes import MultinomialNB\n",
    "from sklearn.decomposition import TruncatedSVD\n",
    "from sklearn.metrics import precision_recall_fscore_support\n",
    "from sklearn.preprocessing import Normalizer,MinMaxScaler\n",
    "\n",
    "\n",
    "count_vect = CountVectorizer()\n",
    "x_train_counts = count_vect.fit_transform(x_train)\n",
    "\n",
    "tfidf_transformer = TfidfTransformer()\n",
    "x_train_tfidf = tfidf_transformer.fit_transform(x_train_counts)\n",
    "\n",
    "lsa = TruncatedSVD(100)\n",
    "x_train_lsa = lsa.fit_transform(x_train_tfidf)\n",
    "scaler1 = Normalizer()\n",
    "x_train_lsa = scaler1.fit_transform(x_train_lsa)\n",
    "scaler2 = MinMaxScaler()\n",
    "x_train_lsa = scaler2.fit_transform(x_train_lsa)\n",
    "\n",
    "print(x_train_counts.shape)\n",
    "print(x_train_lsa.shape)"
   ]
  },
  {
   "cell_type": "markdown",
   "metadata": {},
   "source": [
    "## Naive Bayes"
   ]
  },
  {
   "cell_type": "code",
   "execution_count": 7,
   "metadata": {},
   "outputs": [
    {
     "data": {
      "text/plain": [
       "(0.7713532398333658, 0.77768886966399, 0.7711927078241542, None)"
      ]
     },
     "execution_count": 7,
     "metadata": {},
     "output_type": "execute_result"
    }
   ],
   "source": [
    "clf_Naive_Bayes = Pipeline([('vect', CountVectorizer()),\n",
    "                            ('tfidf', TfidfTransformer()),\n",
    "                            ('svd', TruncatedSVD(100)),\n",
    "                            ('scaler1', Normalizer()),\n",
    "                            ('scaler2', MinMaxScaler()),\n",
    "                            ('clf', MultinomialNB()),])\n",
    "clf_Naive_Bayes.fit(x_train, y_train)\n",
    "y_predicted = clf_Naive_Bayes.predict(x_test)\n",
    "precision_recall_fscore_support(y_predicted, y_test, average='macro')"
   ]
  },
  {
   "cell_type": "code",
   "execution_count": 8,
   "metadata": {},
   "outputs": [
    {
     "name": "stdout",
     "output_type": "stream",
     "text": [
      "0.8058853170706495\n"
     ]
    },
    {
     "data": {
      "text/plain": [
       "{'svd__n_components': 300}"
      ]
     },
     "execution_count": 8,
     "metadata": {},
     "output_type": "execute_result"
    }
   ],
   "source": [
    "from sklearn.model_selection import GridSearchCV\n",
    "\n",
    "parameters = {'svd__n_components': [100,200,300],}\n",
    "gs_clf = GridSearchCV(clf_Naive_Bayes, parameters)\n",
    "gs_clf = gs_clf.fit(x_train, y_train)\n",
    "print(gs_clf.best_score_)\n",
    "gs_clf.best_params_"
   ]
  },
  {
   "cell_type": "markdown",
   "metadata": {},
   "source": [
    "## Perceptron"
   ]
  },
  {
   "cell_type": "code",
   "execution_count": 9,
   "metadata": {},
   "outputs": [],
   "source": [
    "from sklearn.linear_model import Perceptron"
   ]
  },
  {
   "cell_type": "code",
   "execution_count": 10,
   "metadata": {},
   "outputs": [
    {
     "data": {
      "text/plain": [
       "(0.7605282352126398, 0.7831978926029959, 0.7565712095455562, None)"
      ]
     },
     "execution_count": 10,
     "metadata": {},
     "output_type": "execute_result"
    }
   ],
   "source": [
    "clf_Perceptron = Pipeline([('vect', CountVectorizer()),\n",
    "                            ('tfidf', TfidfTransformer()),\n",
    "                            ('svd', TruncatedSVD(100)),\n",
    "                            ('scaler', Normalizer()),\n",
    "                            ('clf', Perceptron()),])\n",
    "clf_Perceptron.fit(x_train, y_train)\n",
    "y_predicted = clf_Perceptron.predict(x_test)\n",
    "precision_recall_fscore_support(y_predicted, y_test, average='macro')"
   ]
  },
  {
   "cell_type": "code",
   "execution_count": 11,
   "metadata": {},
   "outputs": [
    {
     "name": "stdout",
     "output_type": "stream",
     "text": [
      "0.7852047909452685\n"
     ]
    },
    {
     "data": {
      "text/plain": [
       "{'svd__n_components': 300}"
      ]
     },
     "execution_count": 11,
     "metadata": {},
     "output_type": "execute_result"
    }
   ],
   "source": [
    "parameters = {'svd__n_components': [100,200,300],}\n",
    "gs_clf = GridSearchCV(clf_Perceptron, parameters)\n",
    "gs_clf = gs_clf.fit(x_train, y_train)\n",
    "print(gs_clf.best_score_)\n",
    "gs_clf.best_params_"
   ]
  },
  {
   "cell_type": "markdown",
   "metadata": {},
   "source": [
    "## SVM"
   ]
  },
  {
   "cell_type": "code",
   "execution_count": 12,
   "metadata": {},
   "outputs": [],
   "source": [
    "from sklearn.svm import SVC"
   ]
  },
  {
   "cell_type": "code",
   "execution_count": 13,
   "metadata": {},
   "outputs": [
    {
     "data": {
      "text/plain": [
       "(0.8230442980895458, 0.8202878986757439, 0.8199557325034337, None)"
      ]
     },
     "execution_count": 13,
     "metadata": {},
     "output_type": "execute_result"
    }
   ],
   "source": [
    "clf_svm = Pipeline([('vect', CountVectorizer()),\n",
    "                    ('tfidf', TfidfTransformer()),\n",
    "                    ('svd', TruncatedSVD(100)),\n",
    "                    ('scaler', Normalizer()),\n",
    "                    ('clf', SVC(kernel='rbf',random_state=42)),])\n",
    "clf_svm.fit(x_train, y_train)\n",
    "y_predicted = clf_svm.predict(x_test)\n",
    "precision_recall_fscore_support(y_predicted, y_test, average='macro')"
   ]
  },
  {
   "cell_type": "code",
   "execution_count": 14,
   "metadata": {},
   "outputs": [
    {
     "name": "stdout",
     "output_type": "stream",
     "text": [
      "0.8366852938136337\n"
     ]
    },
    {
     "data": {
      "text/plain": [
       "{'clf__kernel': 'rbf', 'svd__n_components': 300}"
      ]
     },
     "execution_count": 14,
     "metadata": {},
     "output_type": "execute_result"
    }
   ],
   "source": [
    "parameters = {'clf__kernel': ['linear', 'poly', 'rbf', 'sigmoid'],\n",
    "              'svd__n_components': [200,300],}\n",
    "gs_clf = GridSearchCV(clf_svm, parameters)\n",
    "gs_clf = gs_clf.fit(x_train, y_train)\n",
    "print(gs_clf.best_score_)\n",
    "gs_clf.best_params_"
   ]
  },
  {
   "cell_type": "code",
   "execution_count": null,
   "metadata": {},
   "outputs": [],
   "source": []
  }
 ],
 "metadata": {
  "kernelspec": {
   "display_name": "Python 3",
   "language": "python",
   "name": "python3"
  },
  "language_info": {
   "codemirror_mode": {
    "name": "ipython",
    "version": 3
   },
   "file_extension": ".py",
   "mimetype": "text/x-python",
   "name": "python",
   "nbconvert_exporter": "python",
   "pygments_lexer": "ipython3",
   "version": "3.8.2"
  }
 },
 "nbformat": 4,
 "nbformat_minor": 4
}
