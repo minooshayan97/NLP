{
 "cells": [
  {
   "cell_type": "code",
   "execution_count": 4,
   "metadata": {
    "id": "Fi1OPyX4G-dn"
   },
   "outputs": [],
   "source": [
    "import numpy as np\n",
    "import string\n",
    "import time"
   ]
  },
  {
   "cell_type": "code",
   "execution_count": 5,
   "metadata": {},
   "outputs": [],
   "source": [
    "def read_model(path):\n",
    "    \n",
    "    f = open(path, \"r\")\n",
    "    lines = f.readlines()\n",
    "\n",
    "    pi = []\n",
    "    A = []\n",
    "    B = [] \n",
    "\n",
    "    initial_f = False\n",
    "    A_f = False\n",
    "    B_f = False\n",
    "    l_count = 0\n",
    "\n",
    "    for line in lines:        \n",
    "        if initial_f:\n",
    "            initial_f = False\n",
    "            pi = [float(i) for i in line.split()]\n",
    "        if A_f:\n",
    "            if l_count>0:\n",
    "                A.append([float(i) for i in line.split()])\n",
    "                l_count -= 1\n",
    "            else:\n",
    "                A_f = False\n",
    "        if B_f:\n",
    "            if l_count>0:\n",
    "                B.append([float(i) for i in line.split()])\n",
    "                l_count -= 1\n",
    "            else:\n",
    "                B_f = False\n",
    "        if line.startswith('initial'):\n",
    "            initial_f = True\n",
    "        if line.startswith('transition'):\n",
    "            l_count = int(line.split()[1])\n",
    "            A_f = True\n",
    "        if line.startswith('observation'):\n",
    "            l_count = int(line.split()[1])\n",
    "            B_f = True\n",
    "    return np.array(A,dtype='double'), np.array(B,dtype='double'), np.array(pi,dtype='double')"
   ]
  },
  {
   "cell_type": "code",
   "execution_count": 6,
   "metadata": {
    "id": "tKEEtrTpG-dp"
   },
   "outputs": [],
   "source": [
    "class HMM:\n",
    "    def __init__(self, A, B, pi):\n",
    "        self.A = A\n",
    "        self.B = B\n",
    "        self.pi = pi\n",
    "        self.N = len(pi)\n",
    "        self.dic = list(string.ascii_uppercase)[:self.N]\n",
    "\n",
    "        \n",
    "    def baum_welch(self, observations):\n",
    "        N = self.N\n",
    "        alpha = self.forward(observations)[0]\n",
    "        beta = self.backward(observations)[0]\n",
    "\n",
    "        T = len(observations)\n",
    "\n",
    "        xi = np.zeros((T,N,N),dtype='double')\n",
    "        gamma = np.zeros((T,N),dtype='double')\n",
    "\n",
    "        for t in range(T):\n",
    "            for i in range(N):\n",
    "                gamma[t][i] = (alpha[t][i]*beta[t][i])/sum([alpha[t][k]*beta[t][k] for k in range(N)])\n",
    "                for j in range(N):\n",
    "                    symbol_index = self.dic.index(observations[t])\n",
    "                    xi[t][i][j] = (alpha[t][i]*self.A[i][j]*self.B[symbol_index][j]*beta[t+1][j])/sum(\n",
    "                        [alpha[t][k]*beta[t][k]for k in range(N)])\n",
    "\n",
    "        new_pi = gamma[0]\n",
    "\n",
    "        new_A = np.zeros((N,N,2),dtype='double')\n",
    "        for i in range(N):\n",
    "            for j in range(N):\n",
    "                new_A[i][j] = (sum([xi[t][i][j] for t in range(T)]),sum([gamma[t][i] for t in range(T)]))\n",
    "\n",
    "        new_B = np.zeros((N,N,2),dtype='double')\n",
    "        for i in range(N):\n",
    "            for j in range(N):\n",
    "                sum1 = 0\n",
    "                sum2 = 0\n",
    "                for t in range(T):\n",
    "                    sum2 += alpha[t][i]*beta[t][i]\n",
    "                    if observations[t] == self.dic[j]:\n",
    "                        sum1 += alpha[t][i]*beta[t][i]\n",
    "                new_B[i][j] = (sum1,sum2)\n",
    "        return new_A, new_B, new_pi\n",
    "    \n",
    "    \n",
    "    def forward(self, observation):\n",
    "        N = self.N\n",
    "        T = len(observation)\n",
    "\n",
    "        alpha = np.zeros((T+1,N),dtype='double')\n",
    "        alpha[0] = self.pi\n",
    "\n",
    "        for i in range(T):\n",
    "            for j in range(N):\n",
    "                symbol_index = self.dic.index(observation[i])\n",
    "                s = sum([alpha[i][k]*self.A[k][j] for k in range(N)])\n",
    "                alpha[i+1][j] = s*self.B[symbol_index][j]    \n",
    "                \n",
    "        return alpha,sum(alpha[-1])\n",
    "    \n",
    "    \n",
    "    def backward(self, observation):\n",
    "        N = self.N\n",
    "        T = len(observation)\n",
    "\n",
    "        beta = np.zeros((T+1,N),dtype='double')\n",
    "        beta[T] = np.ones(N,dtype='double')\n",
    "\n",
    "        for i in range(T,0,-1):\n",
    "            for j in range(N):\n",
    "                symbol_index = self.dic.index(observation[i-1])\n",
    "                beta[i-1][j] = sum(self.A[j][k]*self.B[symbol_index][k]*beta[i][k] for k in range(N))\n",
    "\n",
    "        return beta,sum([self.pi[i]*beta[0][i] for i in range(N)])\n",
    "\n",
    "    def train_model(self, data):\n",
    "        N = self.N\n",
    "        d_pi = np.zeros(N, dtype='double')\n",
    "        d_A = np.zeros((N,N,2), dtype='double')\n",
    "        d_B = np.zeros((N,N,2), dtype='double')\n",
    "\n",
    "        for line in data:\n",
    "            d = self.baum_welch(line)\n",
    "            d_A += d[0]\n",
    "            d_B += d[1]\n",
    "            d_pi += d[2]\n",
    "\n",
    "        new_pi = d_pi/len(data)\n",
    "        new_A = np.zeros((N,N), dtype='double')\n",
    "        new_B = np.zeros((N,N), dtype='double')\n",
    "\n",
    "        for k in range(N):\n",
    "            for j in range(N): \n",
    "                new_A[k][j] = d_A[k][j][0]/d_A[k][j][1]\n",
    "                new_B[k][j] = d_B[k][j][0]/d_B[k][j][1]\n",
    "        \n",
    "        self.A = new_A\n",
    "        self.B = new_B\n",
    "        self.pi = new_pi"
   ]
  },
  {
   "cell_type": "code",
   "execution_count": 7,
   "metadata": {
    "id": "IvISiFNzG-eA"
   },
   "outputs": [],
   "source": [
    "def measure_precision_on_testing_set1(models, test_data):\n",
    "    dummy, result = measure_p_o_lambda(models,test_data)\n",
    "    temp = [a for (a,b) in result]\n",
    "    f = open(\"hmm_data\\\\testing_answer.txt\", \"r\")\n",
    "    answer1 = [line.strip() for line in f.readlines()]\n",
    "    correct = 0\n",
    "    all_count = 0\n",
    "    for l in range(len(temp)):\n",
    "        all_count += 1\n",
    "        if temp[l] == answer1[l]:\n",
    "            correct += 1\n",
    "    return correct/all_count"
   ]
  },
  {
   "cell_type": "code",
   "execution_count": 8,
   "metadata": {
    "id": "_SWXfSZ6G-eA"
   },
   "outputs": [],
   "source": [
    "def measure_p_o_lambda(models,test_data):\n",
    "    p_o_lambda1 = {'model_0{}'.format(i):[] for i in range(1,6)}\n",
    "    result1 = []\n",
    "    for line in test_data:\n",
    "        p_max = 0\n",
    "        for i in range(1,6):\n",
    "            dummy,p = models['HMM_model{}'.format(i)].backward(line)\n",
    "            p_o_lambda1['model_0{}'.format(i)].append(p)\n",
    "            if p >= p_max:\n",
    "                p_max = p\n",
    "                model_max = 'model_0{}.txt'.format(i)\n",
    "        result1.append((model_max,p_max))\n",
    "    return p_o_lambda1,result1"
   ]
  },
  {
   "cell_type": "code",
   "execution_count": 9,
   "metadata": {
    "id": "lCkaVO3zG-eA"
   },
   "outputs": [],
   "source": [
    "def write_results_to_file(models,test_data):\n",
    "    for i in range(1,3):\n",
    "        pol,result = measure_p_o_lambda(models,test_data['test_lines{}'.format(i)])\n",
    "        with open('result{}.txt'.format(i), 'w') as f:\n",
    "            for item in result:\n",
    "                f.write(item[0]+' {}\\n'.format(item[1]))"
   ]
  },
  {
   "cell_type": "code",
   "execution_count": 10,
   "metadata": {
    "id": "X4KejDoxG-eB"
   },
   "outputs": [],
   "source": [
    "def write_models_to_files(models):\n",
    "    for i in range(1,6):\n",
    "        with open('model_0{}.txt'.format(i), 'w') as f:\n",
    "            f.write('initial: 6\\n')\n",
    "            for p in models['HMM_model{}'.format(i)].pi:\n",
    "                f.write('{}\\t'.format(p))\n",
    "            f.write('\\n\\ntransition: 6')\n",
    "            for row in models['HMM_model{}'.format(i)].A:\n",
    "                f.write('\\n')\n",
    "                for a in row:\n",
    "                    f.write('{}\\t'.format(a))\n",
    "            f.write('\\n\\nobservation: 6')\n",
    "            for row in models['HMM_model{}'.format(i)].B:\n",
    "                f.write('\\n')\n",
    "                for b in row:\n",
    "                    f.write('{}\\t'.format(b)) "
   ]
  },
  {
   "cell_type": "code",
   "execution_count": 11,
   "metadata": {
    "id": "jp38E3HEG-de"
   },
   "outputs": [],
   "source": [
    "A,B,pi = read_model(\"hmm_data\\model_init.txt\")"
   ]
  },
  {
   "cell_type": "code",
   "execution_count": 12,
   "metadata": {
    "id": "DJ22l5bCG-d1"
   },
   "outputs": [],
   "source": [
    "train_data = {}\n",
    "for i in range(1,6):\n",
    "    f = open(\"hmm_data\\\\seq_model_0{}.txt\".format(i), \"r\")\n",
    "    train_data['train_lines{}'.format(i)] = [line.strip() for line in f.readlines()]\n",
    "\n",
    "test_data = {}\n",
    "for i in range(1,3):\n",
    "    f = open(\"hmm_data\\\\testing_data{}.txt\".format(i), \"r\")\n",
    "    test_data['test_lines{}'.format(i)] = [line.strip() for line in f.readlines()]"
   ]
  },
  {
   "cell_type": "code",
   "execution_count": 13,
   "metadata": {
    "id": "o4QElHBbG-dp"
   },
   "outputs": [
    {
     "name": "stdout",
     "output_type": "stream",
     "text": [
      "Training HMM 1 ...\n",
      "Training HMM 2 ...\n",
      "Training HMM 3 ...\n",
      "Training HMM 4 ...\n",
      "Training HMM 5 ...\n",
      "\n",
      "Time spent to train 5 HMMs in seconds :  998.0047299861908\n"
     ]
    }
   ],
   "source": [
    "models = {}\n",
    "start = time.time()\n",
    "for i in range(1,6):\n",
    "    print('Training HMM {} ...'.format(i))\n",
    "    models['HMM_model{}'.format(i)] = HMM(A,B,pi)\n",
    "    models['HMM_model{}'.format(i)].train_model(train_data['train_lines{}'.format(i)])\n",
    "end = time.time()\n",
    "print('\\nTime spent to train 5 HMMs in seconds : ', end-start)"
   ]
  },
  {
   "cell_type": "code",
   "execution_count": 14,
   "metadata": {
    "id": "ExM4VLFdG-d5",
    "outputId": "6904ac7c-9876-4420-b175-983e72893aa4"
   },
   "outputs": [
    {
     "name": "stdout",
     "output_type": "stream",
     "text": [
      "Accuracy on testing_data1 :  0.1944\n"
     ]
    }
   ],
   "source": [
    "print('Accuracy on testing_data1 : ', measure_precision_on_testing_set1(models, test_data['test_lines1']))\n",
    "#write_results_to_file(models,test_data)\n",
    "#write_models_to_files(models)"
   ]
  },
  {
   "cell_type": "code",
   "execution_count": null,
   "metadata": {
    "id": "ysQTCNXeG-eB"
   },
   "outputs": [],
   "source": []
  }
 ],
 "metadata": {
  "colab": {
   "name": "Untitled2.ipynb",
   "provenance": []
  },
  "kernelspec": {
   "display_name": "Python 3",
   "language": "python",
   "name": "python3"
  },
  "language_info": {
   "codemirror_mode": {
    "name": "ipython",
    "version": 3
   },
   "file_extension": ".py",
   "mimetype": "text/x-python",
   "name": "python",
   "nbconvert_exporter": "python",
   "pygments_lexer": "ipython3",
   "version": "3.8.2"
  }
 },
 "nbformat": 4,
 "nbformat_minor": 1
}
