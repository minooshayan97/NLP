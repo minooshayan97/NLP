{
 "cells": [
  {
   "cell_type": "code",
   "execution_count": 1,
   "metadata": {},
   "outputs": [],
   "source": [
    "import numpy as np\n",
    "import pandas as pd"
   ]
  },
  {
   "cell_type": "code",
   "execution_count": 2,
   "metadata": {},
   "outputs": [],
   "source": [
    "f = open('persica.csv', \"r\", encoding='utf-8')\n",
    "lines = f.readlines()\n",
    "\n",
    "title = []\n",
    "text=[]\n",
    "category2=[]\n",
    "\n",
    "for i,line in enumerate(lines):\n",
    "    if i%7 == 1:\n",
    "        title.append(line.strip())\n",
    "    elif i%7 == 2:\n",
    "        text.append(line.strip())\n",
    "    elif i%7 == 6:\n",
    "        category2.append(line.strip())\n",
    "\n",
    "df = pd.DataFrame()\n",
    "df['title'] = title\n",
    "df['text'] = text\n",
    "df['input_text'] = df['title'] + df['text']\n",
    "df['category'] = category2"
   ]
  },
  {
   "cell_type": "code",
   "execution_count": 3,
   "metadata": {},
   "outputs": [
    {
     "name": "stdout",
     "output_type": "stream",
     "text": [
      "['آموزشي' 'اجتماعي' 'تاريخي' 'اقتصادي' 'بهداشتي' 'علمي' 'سياسي' 'فرهنگي'\n",
      " 'فقه و حقوق' 'مذهبي' 'ورزشي']\n"
     ]
    }
   ],
   "source": [
    "num_classes = len(df['category'].unique())\n",
    "print(df['category'].unique())"
   ]
  },
  {
   "cell_type": "code",
   "execution_count": 4,
   "metadata": {},
   "outputs": [],
   "source": [
    "df['labels'] = df['category'].map({'علمي': 0,\n",
    "                                   'بهداشتي': 1,\n",
    "                                   'اقتصادي': 2,\n",
    "                                   'تاريخي': 3,\n",
    "                                   'اجتماعي': 4,\n",
    "                                   'آموزشي': 5,\n",
    "                                   'ورزشي': 6,\n",
    "                                   'مذهبي': 7,\n",
    "                                   'فقه و حقوق': 8,\n",
    "                                   'فرهنگي': 9,\n",
    "                                   'سياسي': 10})"
   ]
  },
  {
   "cell_type": "code",
   "execution_count": 5,
   "metadata": {},
   "outputs": [],
   "source": [
    "from sklearn.model_selection import train_test_split\n",
    "\n",
    "x_train, x_test, y_train, y_test = train_test_split(df['input_text'], df['labels'], test_size=0.2)\n",
    "x_train, x_val, y_train, y_val = train_test_split(x_train, y_train, test_size=0.2)"
   ]
  },
  {
   "cell_type": "code",
   "execution_count": 6,
   "metadata": {},
   "outputs": [],
   "source": [
    "df_train = pd.DataFrame()\n",
    "df_train['label'] = y_train\n",
    "df_train['text'] = x_train\n",
    "\n",
    "df_val = pd.DataFrame()\n",
    "df_val['label'] = y_val\n",
    "df_val['text'] = x_val\n",
    "\n",
    "df_test = pd.DataFrame()\n",
    "df_test['label'] = y_test\n",
    "df_test['text'] = x_test"
   ]
  },
  {
   "cell_type": "code",
   "execution_count": 7,
   "metadata": {},
   "outputs": [],
   "source": [
    "df_train.to_csv('persica_train.csv',index=False)\n",
    "df_val.to_csv('persica_validation.csv',index=False)\n",
    "df_test.to_csv('persica_test.csv',index=False)"
   ]
  },
  {
   "cell_type": "code",
   "execution_count": null,
   "metadata": {},
   "outputs": [],
   "source": []
  }
 ],
 "metadata": {
  "kernelspec": {
   "display_name": "Python 3",
   "language": "python",
   "name": "python3"
  },
  "language_info": {
   "codemirror_mode": {
    "name": "ipython",
    "version": 3
   },
   "file_extension": ".py",
   "mimetype": "text/x-python",
   "name": "python",
   "nbconvert_exporter": "python",
   "pygments_lexer": "ipython3",
   "version": "3.8.2"
  }
 },
 "nbformat": 4,
 "nbformat_minor": 4
}
